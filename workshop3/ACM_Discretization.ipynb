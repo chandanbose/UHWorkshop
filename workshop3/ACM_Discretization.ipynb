{
  "nbformat": 4,
  "nbformat_minor": 0,
  "metadata": {
    "colab": {
      "name": "ACM_Discretization.ipynb",
      "version": "0.3.2",
      "provenance": [],
      "collapsed_sections": [],
      "include_colab_link": true
    },
    "kernelspec": {
      "display_name": "Python 3",
      "language": "python",
      "name": "python3"
    }
  },
  "cells": [
    {
      "cell_type": "markdown",
      "metadata": {
        "id": "view-in-github",
        "colab_type": "text"
      },
      "source": [
        "[View in Colaboratory](https://colab.research.google.com/github/taataam/UHOFWorkshop/blob/master/workshop3/ACM_Discretization.ipynb)"
      ]
    },
    {
      "metadata": {
        "id": "Ux53f8k281cG",
        "colab_type": "text"
      },
      "cell_type": "markdown",
      "source": [
        "# Governing Equations\n",
        "\n",
        "The Incompressible Navier-Stokes Equations (INSE) is as follows:\n",
        "\\begin{gather}\n",
        "\\partial_t \\rho + \\rho \\nabla . \\mathbf{u} =0\\\\\n",
        "\\partial_t \\mathbf{u} + \\mathbf{u} . \\nabla \\mathbf{u} = -\\frac{1}{\\rho} \\nabla p + \\nu \\nabla^2 \\mathbf{u} + \\mathbf{g}\n",
        "\\end{gather}"
      ]
    },
    {
      "metadata": {
        "id": "npH8n51P81cI",
        "colab_type": "text"
      },
      "cell_type": "markdown",
      "source": [
        "Since there is no separate equation for pressure we should decouple the equations in some way. Artificial Compressibility Method (ACM) offers a technique for decoupling pressure and velocity by assuming small compressibility for the fluid and isothermal condition for the flow. These assumptions suggest that density becomes only a function of pressure. Therefore, we have:\n",
        "\\begin{gather}\n",
        "\\rho = \\rho(p) \\therefore \\partial_t \\rho = \\frac{\\partial \\rho}{\\partial p} \\frac{\\partial p}{\\partial t} = \\frac{1}{c^2} \\frac{\\partial p}{\\partial t}\n",
        "\\end{gather}"
      ]
    },
    {
      "metadata": {
        "id": "DZj6P6sS81cK",
        "colab_type": "text"
      },
      "cell_type": "markdown",
      "source": [
        "where $c$ is artificial sound speed and has the same dimesion as velocity. This assumption means that there is a time lag between the flow disturbance and its effect on the pressure field. The INSE can be written as follows:\n",
        "\\begin{gather}\n",
        "\\partial_t P + c^2 \\nabla . \\mathbf{u} =0\\\\\n",
        "\\partial_t \\mathbf{u} + \\mathbf{u} . \\nabla \\mathbf{u} = -\\nabla P + \\nu \\nabla^2 \\mathbf{u} + \\mathbf{g}\n",
        "\\end{gather}\n",
        "where $P = \\dfrac{p}{\\rho}$."
      ]
    },
    {
      "metadata": {
        "id": "-nWc6GOR81cM",
        "colab_type": "text"
      },
      "cell_type": "markdown",
      "source": [
        "These assumptions significantly facilitate efficient solution of the equations at the cost of limiting scope of applicability of the method; incompressible steady state problems."
      ]
    },
    {
      "metadata": {
        "id": "TLYXplZw81cP",
        "colab_type": "text"
      },
      "cell_type": "markdown",
      "source": [
        "Some remarks about ACM:\n",
        "- $t$ is pseudo-time step and depends on $c$. Therefore, if an explicit discretization method is used time step should have a small value.\n",
        "- Since the solution does not invlove any elliptic PDE which is non-local, the method can be parallelized efficiently.\n",
        "- Although applicability of the method is very limited, it provides a simple yet informative framework for pedagogical purposes."
      ]
    },
    {
      "metadata": {
        "id": "Jyaz2XbF81cT",
        "colab_type": "text"
      },
      "cell_type": "markdown",
      "source": [
        "# Solution algorithm:\n",
        "\n",
        "Solution procedure for inner grid points can be formulated as follows assuming that superscript $n$ denotes the unknown variable:\n",
        "1. The **momentum equation in $x$ direction** is as follows:\n",
        "\\begin{equation}\n",
        "\\partial_t u + \\partial_x(u u) + \\partial_y(u v) = - \\partial_x P + \\nu \\left(\\partial_{xx} u + \\partial_{yy} u\\right)\n",
        "\\end{equation}\n",
        "\n",
        "We can discretisize the equation using a central differencing schemes:\n",
        "\\begin{align}\n",
        "\\frac{u^n_{i,j} - u_{i,j}}{\\Delta t}&+\n",
        "\\frac{\\left(\\frac{u_{i+1,j} + u_{i,j}}{2}\\right)^2 - \\left(\\frac{u_{i,j} + u_{i-1,j}}{2}\\right)^2}{\\Delta x}\\\\\n",
        "&+\n",
        "\\frac{\\left(\\frac{u_{i,j+1} + u_{i,j}}{2}\\right)  \\left(\\frac{v_{i+1,j} + v_{i,j}}{2}\\right) - \\left(\\frac{u_{i,j} + u_{i,j-1}}{2}\\right)  \\left(\\frac{v_{i+1,j-1} + v_{i,j-1}}{2}\\right)}{\\Delta y}\\\\\n",
        "&=\\\\\n",
        "&- \\frac{P_{i+1,j} - P_{i,j}}{\\Delta x}\\\\\n",
        "&+\\nu \\left( \\frac{u_{i+1,j} - 2u_{i,j} +u_{i-1,j} }{\\Delta x^2} +  \\frac{u_{i,j+1} - 2u_{i,j} +u_{i,j-1} }{\\Delta y^2}\\right)\n",
        "\\end{align}\n",
        "\n",
        "2. The **momentum equation in $y$ direction** is as follows:\n",
        "\\begin{equation}\n",
        "\\partial_t v + \\partial_x(u v) + \\partial_y(v v) = - \\partial_y P + \\nu \\left(\\partial_{xx} v + \\partial_{yy} v\\right)\n",
        "\\end{equation}\n",
        "\n",
        "We can discretisize the equation using a central differencing schemes:\n",
        "\n",
        "\\begin{align}\n",
        "\\frac{v^n_{i,j} - v_{i,j}}{\\Delta t}&+\n",
        "\\frac{\\left(\\frac{u_{i,j+1} + u_{i,j}}{2}\\right)  \\left(\\frac{v_{i+1,j} + v_{i,j}}{2}\\right) - \\left(\\frac{u_{i-1,j+1} + u_{i-1,j}}{2}\\right)  \\left(\\frac{v_{i,j} + v_{i-1,j}}{2}\\right)}{\\Delta x}\\\\\n",
        "&+\n",
        "\\frac{\\left(\\frac{v_{i,j+1} + v_{i,j}}{2}\\right)^2 - \\left(\\frac{v_{i,j} + v_{i,j-1}}{2}\\right)^2}{\\Delta y}\\\\\n",
        "&=\\\\\n",
        "&- \\frac{P_{i,j+1} - P_{i,j}}{\\Delta y}\\\\\n",
        "&+\\nu \\left( \\frac{v_{i+1,j} - 2v_{i,j} +v_{i-1,j} }{\\Delta x^2} +  \\frac{v_{i,j+1} - 2v_{i,j} +v_{i,j-1} }{\\Delta y^2}\\right)\n",
        "\\end{align}\n",
        "\n",
        "3. The **continuity equation** is as follows:\n",
        "\\begin{equation}\n",
        "\\partial_t P + c^2 \\left(\\partial_x u+ \\partial_y v \\right) =  0\n",
        "\\end{equation}\n",
        "\n",
        "We can discretisize the equation using a central differencing schemes:\n",
        "\n",
        "\\begin{align}\n",
        " \\frac{P^n_{i,j} - P_{i,j}}{\\Delta t} + c^2 \\left( \\frac{u^n_{i,j} - u^n_{i-1,j} }{\\Delta x} +  \\frac{v^n_{i,j} - v^n_{i,j-1} }{\\Delta y}\\right) = 0\n",
        "\\end{align}"
      ]
    },
    {
      "metadata": {
        "id": "0hPXSMV981cU",
        "colab_type": "text"
      },
      "cell_type": "markdown",
      "source": [
        "# Boundary Conditions:\n",
        "\n",
        "The two common boundary conditions can be formulated as follows:\n",
        "\n",
        "- Dirichlet: $\\phi_g = 2 \\phi_b - \\phi_i$\n",
        "- Neumann: $\\phi_g = \\phi_i - \\left( \\Delta n \\frac{\\partial \\phi}{\\partial n} \\right)_b$\n",
        "\n",
        "where $g$, $b$ and $i$ denote a ghost, boundary and inner node, respectively. Also $\\phi$ is a quantity of interest ($u$, $v$ or $P$) and $n$ represents a direction normal to the boundary cell face.\n",
        "\n",
        "In the lid-driven cavity problem velocity boundary condition is Dirichlet on all the boundaries and pressure is Neumann."
      ]
    },
    {
      "metadata": {
        "id": "JHFJ7iNb81cR",
        "colab_type": "text"
      },
      "cell_type": "markdown",
      "source": [
        "# Convergence criteria:\n",
        "The following criteria are used for measuring convergence of the solution:\n",
        "- $E_u = \\sqrt{(\\Delta t \\Delta x \\Delta  y) \\sum_{i,j}(u^{n+1}_{i,j} - u^{n}_{i,j})^2}$\n",
        "- $E_v = \\sqrt{(\\Delta t \\Delta x \\Delta  y) \\sum_{i,j}(v^{n+1}_{i,j} - v^{n}_{i,j})^2}$\n",
        "- $E_p = \\sqrt{\\frac{\\Delta t \\Delta x \\Delta  y }{c^2} \\sum_{i,j}(P^{n+1}_{i,j} - P^{n}_{i,j})^2}$\n",
        "- $E_{\\nabla} = (\\Delta t \\Delta x \\Delta  y) \\nabla . \\mathbf{u}$\n",
        "- $E_{tot} = \\max\\{E_u, E_v, E_p, E_{\\nabla}) < \\varepsilon$\n",
        "\n",
        "In the lid-driven cacity problem, $\\varepsilon$ which is tolerence, is set to $10^{-8}$."
      ]
    }
  ]
}