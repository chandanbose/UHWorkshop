{
 "cells": [
  {
   "cell_type": "markdown",
   "metadata": {},
   "source": [
    "# 1D Finite Difference"
   ]
  },
  {
   "cell_type": "markdown",
   "metadata": {},
   "source": [
    "The program solves the linear advcetion equation in 1D:\n",
    "\\begin{equation*}\n",
    "a_t + u a_x = 0\n",
    "\\end{equation*}\n",
    "The discretization is performed using Finite Difference. Two numerical schemes are implemented for space discretization; central and upwind. Also, two methods are employed for temporal discretization; explicit and implicit.\n",
    "\n",
    "First, let's import some useful libraries."
   ]
  },
  {
   "cell_type": "code",
   "execution_count": 1,
   "metadata": {},
   "outputs": [],
   "source": [
    "from sys import exit\n",
    "import numpy as np\n",
    "import pandas as pd\n",
    "import matplotlib.pyplot as plt"
   ]
  },
  {
   "cell_type": "markdown",
   "metadata": {},
   "source": [
    "We can alter the way graphs are displayed in the notebook as follows:"
   ]
  },
  {
   "cell_type": "code",
   "execution_count": 2,
   "metadata": {},
   "outputs": [],
   "source": [
    "import matplotlib as mpl\n",
    "mpl.rcParams['mathtext.fontset'] = 'cm'\n",
    "mpl.rcParams['mathtext.rm'] = 'serif'\n",
    "%matplotlib inline"
   ]
  },
  {
   "cell_type": "markdown",
   "metadata": {},
   "source": [
    "Since several methods are being employed and there are many variables, we can group the related variables and functions into class for efficient programming. Let's start by constructing a class for meshing. Since only upwind and central schemes are implemented we only need one ghost cell at each boundary. Therefore, there should be two extra nodes other than the internal nodes. Moreover, only periodic boundary condition is implemented."
   ]
  },
  {
   "cell_type": "code",
   "execution_count": 3,
   "metadata": {},
   "outputs": [],
   "source": [
    "class FDGrid1D(object):\n",
    "    def __init__(self, nx, no, xmin=0.0, xmax=1.0):\n",
    "\n",
    "        self.xmin = xmin\n",
    "        self.xmax = xmax\n",
    "        self.no = no\n",
    "        self.nx = nx\n",
    "\n",
    "        self.ilo = no\n",
    "        self.ihi = no + nx - 1\n",
    "        self.ntot = nx + 2*no\n",
    "\n",
    "        self.dx = (xmax-xmin) / nx\n",
    "        self.x = xmin + (np.arange(self.ntot)-no) * self.dx\n",
    "\n",
    "        self.phi = pd.DataFrame(self.initialize(),\n",
    "                                columns=['init', 'old', 'last'])\n",
    "\n",
    "\n",
    "    def initialize(self):\n",
    "        x_init = np.zeros([self.ntot, 3])\n",
    "        x_init[int(1. / (3*self.dx)):int(2. / (3*self.dx)), :2] = 1\n",
    "        return x_init\n",
    "\n",
    "\n",
    "    def fill_BCs(self):\n",
    "        self.phi['last'][self.ilo-1] = self.phi['last'][self.ihi-1]\n",
    "        self.phi['last'][self.ihi+1] = self.phi['last'][self.ilo+1]"
   ]
  },
  {
   "cell_type": "markdown",
   "metadata": {},
   "source": [
    "We define another class for simulation parameters and functions for tracking the evolution of the field. Note than you should always pass a copy of an array when they are being passed to other functions since all the variables in python by default are references to objects."
   ]
  },
  {
   "cell_type": "code",
   "execution_count": 4,
   "metadata": {},
   "outputs": [],
   "source": [
    "class Simulation(object):\n",
    "    def __init__(self, grid, u, period=5.0, scheme=\"FTCS\", method=\"explicit\"):\n",
    "        self.grid = grid\n",
    "        self.t = 0.0\n",
    "        self.period = period\n",
    "        self.u = u\n",
    "        self.scheme = scheme \n",
    "        self.method = method\n",
    "\n",
    "\n",
    "    def advect(self, func, c):\n",
    "        g = self.grid\n",
    "        if self.method == \"explicit\":\n",
    "            if self.scheme == \"upwind\":\n",
    "                func[g.ilo:g.ihi] = func[g.ilo:g.ihi] - c*(func[g.ilo:g.ihi] -\n",
    "                                func[g.ilo-1:g.ihi-1])\n",
    "            elif self.scheme == \"FTCS\":\n",
    "                func[g.ilo:g.ihi] = func[g.ilo:g.ihi] - 0.5*c*(func[g.ilo+1:g.ihi+1] -\n",
    "                                func[g.ilo-1:g.ihi-1])\n",
    "            else:\n",
    "                exit(\"invalid scheme\")\n",
    "\n",
    "            g.fill_BCs()\n",
    "\n",
    "        if self.method == \"implicit\":\n",
    "            A = np.zeros([g.ntot, g.ntot])\n",
    "            if self.scheme == \"upwind\":\n",
    "                np.fill_diagonal(A, 1 + c)\n",
    "                np.fill_diagonal(A[1:, :-1], - c)\n",
    "                A[0, -1] = -c\n",
    "            elif self.scheme == \"FTCS\":\n",
    "                np.fill_diagonal(A, 1)\n",
    "                np.fill_diagonal(A[1:, :-1], -0.5 * c)\n",
    "                np.fill_diagonal(A[:-1, 1:], 0.5 * c)\n",
    "                A[0, -1] = -0.5 * c\n",
    "            else:\n",
    "                exit(\"invalid scheme\")\n",
    "            func = np.linalg.solve(A, func)\n",
    "        else:\n",
    "            exit(\"invalid method\")\n",
    "        return func\n",
    "\n",
    "\n",
    "    def solve(self, c=0.8):\n",
    "        g = self.grid\n",
    "        t = self.t \n",
    "        dt = c * g.dx / self.u\n",
    "        tmax = (g.xmax-g.xmin) / self.u * self.period\n",
    "        phi = g.phi.copy()\n",
    "        while t < tmax:\n",
    "            phi['last'] = self.advect(np.array(phi['old']), c)\n",
    "            phi['old'] = phi['last']\n",
    "            t += dt\n",
    "        return phi"
   ]
  },
  {
   "cell_type": "markdown",
   "metadata": {},
   "source": [
    "Let's define the actual problem and plots the results.\n",
    "The domain has a length of one unit and is discretisized to 665 nodes. The velocity in the domain is 1 unit and goes from left to right. We solve the problem for a perid of 1 cycle with an implicit upwind schemes for 3 different Courant numbers; 0.5, 1 and 10."
   ]
  },
  {
   "cell_type": "code",
   "execution_count": 5,
   "metadata": {
    "scrolled": false
   },
   "outputs": [
    {
     "data": {
      "image/png": "[encoded data removed]",
      "text/plain": [
       "<Figure size 432x288 with 1 Axes>"
      ]
     },
     "metadata": {},
     "output_type": "display_data"
    }
   ],
   "source": [
    "fgrid = FDGrid1D(665, 1)\n",
    "\n",
    "vel = 1.0\n",
    "cycle = 1.0\n",
    "\n",
    "s = Simulation(fgrid, vel, cycle, \"upwind\", \"implicit\")\n",
    "\n",
    "cfl = [10.0, 1.0, 0.5]\n",
    "solution_list = [s.solve(i) for i in cfl]\n",
    "solution = pd.concat(solution_list, keys=cfl)\n",
    "\n",
    "fig = plt.figure()\n",
    "ax = fig.add_subplot(111)\n",
    "\n",
    "ax.plot(fgrid.x, solution.loc[cfl[0]]['init'], label='Exact', linestyle='--')\n",
    "[ax.plot(fgrid.x, solution.loc[i]['last'], label='C = ' + str(i)) for i in cfl]\n",
    "\n",
    "plt.xlabel(r\"$x$\", fontsize=16)\n",
    "plt.ylabel(r\"$\\phi$\", fontsize=16)\n",
    "plt.legend(frameon=False, loc=\"best\")\n",
    "plt.tight_layout()\n",
    "\n",
    "plt.show()"
   ]
  },
  {
   "cell_type": "code",
   "execution_count": 6,
   "metadata": {},
   "outputs": [
    {
     "data": {
      "text/html": [
       "<link href='http://fonts.googleapis.com/css?family=Fenix' rel='stylesheet' type='text/css'>\n",
       "<link href='http://fonts.googleapis.com/css?family=Alegreya+Sans:100,300,400,500,700,800,900,100italic,300italic,400italic,500italic,700italic,800italic,900italic' rel='stylesheet' type='text/css'>\n",
       "<link href='http://fonts.googleapis.com/css?family=Source+Code+Pro:300,400' rel='stylesheet' type='text/css'>\n",
       "<style>\n",
       "    @font-face {\n",
       "        font-family: \"Computer Modern\";\n",
       "        src: url('http://mirrors.ctan.org/fonts/cm-unicode/fonts/otf/cmunss.otf');\n",
       "    }\n",
       "    div.cell{\n",
       "        width:800px;\n",
       "        margin-left:16% !important;\n",
       "        margin-right:auto;\n",
       "    }\n",
       "    h1 {\n",
       "        font-family: 'Alegreya Sans', sans-serif;\n",
       "    }\n",
       "    h2 {\n",
       "        font-family: 'Fenix', serif;\n",
       "    }\n",
       "    h3{\n",
       "\t\tfont-family: 'Fenix', serif;\n",
       "        margin-top:12px;\n",
       "        margin-bottom: 3px;\n",
       "       }\n",
       "\th4{\n",
       "\t\tfont-family: 'Fenix', serif;\n",
       "       }\n",
       "    h5 {\n",
       "        font-family: 'Alegreya Sans', sans-serif;\n",
       "    }\t   \n",
       "    div.text_cell_render{\n",
       "        font-family: 'Alegreya Sans',Computer Modern, \"Helvetica Neue\", Arial, Helvetica, Geneva, sans-serif;\n",
       "        line-height: 135%;\n",
       "        font-size: 120%;\n",
       "        width:600px;\n",
       "        margin-left:auto;\n",
       "        margin-right:auto;\n",
       "    }\n",
       "    .CodeMirror{\n",
       "            font-family: \"Source Code Pro\";\n",
       "\t\t\tfont-size: 90%;\n",
       "    }\n",
       "/*    .prompt{\n",
       "        display: None;\n",
       "    }*/\n",
       "    .text_cell_render h1 {\n",
       "        font-weight: 200;\n",
       "        font-size: 50pt;\n",
       "\t\tline-height: 100%;\n",
       "        color:#CD2305;\n",
       "        margin-bottom: 0.5em;\n",
       "        margin-top: 0.5em;\n",
       "        display: block;\n",
       "    }\t\n",
       "    .text_cell_render h5 {\n",
       "        font-weight: 300;\n",
       "        font-size: 16pt;\n",
       "        color: #CD2305;\n",
       "        font-style: italic;\n",
       "        margin-bottom: .5em;\n",
       "        margin-top: 0.5em;\n",
       "        display: block;\n",
       "    }\n",
       "    \n",
       "    .warning{\n",
       "        color: rgb( 240, 20, 20 )\n",
       "        }  \n",
       "</style>\n",
       "<script>\n",
       "    MathJax.Hub.Config({\n",
       "                        TeX: {\n",
       "                           extensions: [\"AMSmath.js\"]\n",
       "                           },\n",
       "                tex2jax: {\n",
       "                    inlineMath: [ ['$','$'], [\"\\\\(\",\"\\\\)\"] ],\n",
       "                    displayMath: [ ['$$','$$'], [\"\\\\[\",\"\\\\]\"] ]\n",
       "                },\n",
       "                displayAlign: 'center', // Change this to 'center' to center equations.\n",
       "                \"HTML-CSS\": {\n",
       "                    styles: {'.MathJax_Display': {\"margin\": 4}}\n",
       "                }\n",
       "        });\n",
       "</script>\n"
      ],
      "text/plain": [
       "<IPython.core.display.HTML object>"
      ]
     },
     "execution_count": 6,
     "metadata": {},
     "output_type": "execute_result"
    }
   ],
   "source": [
    "from IPython.core.display import HTML\n",
    "HTML(open(\"figures/custom.css\", \"r\").read())"
   ]
  }
 ],
 "metadata": {
  "kernelspec": {
   "display_name": "Python 3",
   "language": "python",
   "name": "python3"
  },
  "language_info": {
   "codemirror_mode": {
    "name": "ipython",
    "version": 3
   },
   "file_extension": ".py",
   "mimetype": "text/x-python",
   "name": "python",
   "nbconvert_exporter": "python",
   "pygments_lexer": "ipython3",
   "version": "3.6.6"
  }
 },
 "nbformat": 4,
 "nbformat_minor": 2
}
