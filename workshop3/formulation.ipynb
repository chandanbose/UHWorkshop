{
 "cells": [
  {
   "cell_type": "markdown",
   "metadata": {},
   "source": [
    "# Euler Equations"
   ]
  },
  {
   "cell_type": "markdown",
   "metadata": {},
   "source": [
    "The notations used for this workshop are as follows:\n",
    "\\begin{gather*}\n",
    "\\phi_t \\equiv \\frac{\\partial \\phi}{\\partial t} \\text{, }\n",
    "\\phi_x \\equiv \\frac{\\partial \\phi}{\\partial x} \\text{, }\n",
    "\\phi_y \\equiv \\frac{\\partial \\phi}{\\partial y} \\text{, }\n",
    "\\phi_z \\equiv \\frac{\\partial \\phi}{\\partial z}\\\\\n",
    "\\text{grad }\\phi\\equiv \\nabla\\phi \\equiv \\left(\\phi_x , \\phi_y, \\phi_z \\right)\\\\\n",
    "\\text{div }\\mathbf{V} \\equiv \\nabla . \\mathbf{V} \\equiv \\dfrac{\\partial v_1}{\\partial x} + \\dfrac{\\partial v_2}{\\partial y} + \\dfrac{\\partial v_3}{\\partial z}\\\\\n",
    "\\frac{D \\phi}{D t} \\equiv \\phi_t + \\mathbf{V} . \\nabla\\phi\n",
    "\\end{gather*}\n",
    "where $\\phi$ is a scalar and $\\mathbf{V}$ a vector."
   ]
  },
  {
   "cell_type": "markdown",
   "metadata": {},
   "source": [
    "Let's consider Euler equations in *conservative* form:\n",
    "\\begin{gather*}\n",
    "\\rho_t + \\nabla .(\\rho \\mathbf{V}) = 0\\\\\n",
    "(\\rho \\mathbf{V})_t + \\nabla .[\\rho \\mathbf{V} \\otimes \\mathbf{V} + p I] = \\rho \\mathbf{g}\\\\\n",
    "E_t + \\nabla .[(E+p)\\mathbf{V}] = \\rho (\\mathbf{V} . \\mathbf{g})\n",
    "\\end{gather*}\n",
    "where $\\rho$, $\\rho \\mathbf{V}$ and $E = \\rho (0.5\\mathbf{V}^2 + e)$ are conserved quantities and $\\otimes$ is tensor product. Also, the equations can be written in a more compact form as follows:\n",
    "\\begin{gather*}\n",
    "\\mathbf{U}_t + \\mathbf{F}(\\mathbf{U})_x + \\mathbf{G}(\\mathbf{U})_x + \\mathbf{H}(\\mathbf{U})_z = \\mathbf{S}(\\mathbf{U})\n",
    "\\end{gather*}\n",
    "where $\\mathbf{F}$, $\\mathbf{G}$ and $\\mathbf{H}$ are flux vectors of the *conserved* variables vector $\\mathbf{U}$, defined as follows:\n",
    "\\begin{gather*}\n",
    "\\mathbf{U} =\n",
    "\\begin{bmatrix}\n",
    "\\rho\\\\\n",
    "\\rho u\\\\\n",
    "\\rho v\\\\\n",
    "\\rho w\\\\\n",
    "E\n",
    "\\end{bmatrix} \\text{, }\n",
    "\\mathbf{F} =\n",
    "\\begin{bmatrix}\n",
    "\\rho u\\\\\n",
    "\\rho uu + p\\\\\n",
    "\\rho vu\\\\\n",
    "\\rho wu\\\\\n",
    "(E + p)u\n",
    "\\end{bmatrix} \\text{, }\n",
    "\\mathbf{G} =\n",
    "\\begin{bmatrix}\n",
    "\\rho v\\\\\n",
    "\\rho uv\\\\\n",
    "\\rho vv + p\\\\\n",
    "\\rho wv\\\\\n",
    "(E + p)v\n",
    "\\end{bmatrix} \\text{, }\n",
    "\\mathbf{H} =\n",
    "\\begin{bmatrix}\n",
    "\\rho w\\\\\n",
    "\\rho uw\\\\\n",
    "\\rho vw\\\\\n",
    "\\rho ww + p\\\\\n",
    "(E + p)w\n",
    "\\end{bmatrix}\n",
    "\\end{gather*}\n",
    "Moreover, $S$ is a source term which could include body forces such as gravity as well as mass injection. When $S= 0$ the equation is called *homogeneous*."
   ]
  },
  {
   "cell_type": "markdown",
   "metadata": {},
   "source": [
    "The aforementioned equations are in differential form which assumes smooth solutions. The equations can be written in integral form if discontinuous solutions are expected. The integral form which can be derived using [Leibniz's integration rule](https://en.wikipedia.org/wiki/Leibniz_integral_rule), are as follows:\n",
    "\\begin{gather*}\n",
    "\\int_\\Omega \\rho_t \\text{d}\\Omega + \\oint_S (\\mathbf{n}.\\rho \\mathbf{V}) \\text{d}S = 0\\\\\n",
    "\\int_\\Omega (\\rho \\mathbf{V})_t \\text{d}\\Omega + \\oint_S (\\mathbf{n}.\\rho \\mathbf{V} \\otimes \\mathbf{V} + p\\mathbf{n})\\text{d}S = \\int_\\Omega \\rho \\mathbf{g} \\text{d}\\Omega\\\\\n",
    "\\int_\\Omega E_t \\text{d}\\Omega + \\oint_S [\\mathbf{n}. (E \\mathbf{V} + p\\mathbf{V}] \\text{d}S = \\int_\\Omega \\rho (\\mathbf{V}.\\mathbf{g}) \\text{d}\\Omega\\\\\n",
    "\\end{gather*}\n",
    "where $\\Omega$ is control volume and $S$ control surface.\n"
   ]
  },
  {
   "cell_type": "markdown",
   "metadata": {},
   "source": [
    "Furthermore, the equations can be written in terms of *physical* variables $\\rho$, $u$, $v$, $w$ and $p$ which are called *non-conservative* form of equations. They can be obtained by applying [chain rule](https://en.wikipedia.org/wiki/Chain_rule) to the derivatives and in differential form are as follows:\n",
    "\\begin{gather*}\n",
    "\\rho_t + u \\rho_x + v \\rho_y + w \\rho_z + \\rho (u_x + v_y + w_z) = 0\\\\\n",
    "u_t + u u_x + v u_y + w u_z + \\frac{1}{\\rho} p_x = g_1\\\\\n",
    "v_t + u v_x + v v_y + w v_z + \\frac{1}{\\rho} p_y = g_2\\\\\n",
    "w_t + u w_x + v w_y + w w_z + \\frac{1}{\\rho} p_z = g_3\\\\\n",
    "(E+p)_t + u (E+p)_x + v (E+p)_y + w (E+p)_z + (E+p) (u_x + v_y + w_z) = \\rho (u g_1 + v g_2 + w g_3)\\\\\n",
    "\\end{gather*}"
   ]
  },
  {
   "cell_type": "markdown",
   "metadata": {},
   "source": [
    "Although Euler equations assumes an inviscid and non-heat conducting flow, the solution is still complicated; closure problem, variation in time and space, and non-linearity. In order to elucidate these complexities we can simplify the set of equations and study the proposed techniques for addressing the issues separately.\n"
   ]
  },
  {
   "cell_type": "markdown",
   "metadata": {},
   "source": [
    "Let's start by obtaining equations for a 1D isothermal flow. The isothermal condition provides an *Equation Of State* (EOS) relating pressure to density through $p = p(\\rho) \\equiv a^2 \\rho$. This additional equation addresses closure problem by making the energy equation redundant. Considering gravitational acceleration vector as (0, $-g$, 0), the equations becomes as follow:\n",
    "\\begin{gather*}\n",
    "\\rho_t + u \\rho_x + \\rho u_x = 0\\\\\n",
    "u_t + u u_x + \\frac{a^2}{\\rho} \\rho_x = 0\\\\\n",
    "\\end{gather*}\n",
    "Furthermore, by assuming an *incompressible* ($\\rho_t = 0$) flow of an *homogeneous* ($\\rho_x = 0$) fluid, the equations reduce to a non-linear equation which is known as **inviscid Burgers' equation**:\n",
    "\\begin{gather*}\n",
    "u_t + u u_x = 0\\\\\n",
    "\\end{gather*}\n",
    "This equation is still non-linear with variations in time and space. In order to further simplify the equation lets assume $u(x, t)$ is a scalar quantity which is being advected by a constant speed $a$. The equation becomes:\n",
    "\\begin{gather*}\n",
    "u_t + a u_x = 0\\\\\n",
    "\\end{gather*}\n",
    "which is called **Linear Advection Equation** and is an hyperbolic [Partial Differential Equation (PDE)](https://en.wikipedia.org/wiki/Partial_differential_equation). This equation is used extensively for developing and validating numerical methods for wave propagation problems. Since it is an hyperbolic PDE, [characteristic curves](https://en.wikipedia.org/wiki/Method_of_characteristics) provide the solutions. The formal solution is $u(x, t) = F(x - a t)$ where $F$ is an arbitrary function. It can be interpreted as passive advection of an arbitrary shaped pulse along the flow."
   ]
  },
  {
   "cell_type": "markdown",
   "metadata": {},
   "source": [
    "There are several approaches for solving the equation numerically such as Finite Difference (FD), Finite Volume (FV) and Finite Element discretization methods. FD and FV methods are covered in this workshop.\n",
    "\n",
    "Let's start by FD method. The following sh"
   ]
  },
  {
   "cell_type": "markdown",
   "metadata": {},
   "source": [
    "![finite-difference grid](figures/fd1d.png)"
   ]
  },
  {
   "cell_type": "code",
   "execution_count": 4,
   "metadata": {},
   "outputs": [
    {
     "data": {
      "text/html": [
       "<link href='http://fonts.googleapis.com/css?family=Fenix' rel='stylesheet' type='text/css'>\n",
       "<link href='http://fonts.googleapis.com/css?family=Alegreya+Sans:100,300,400,500,700,800,900,100italic,300italic,400italic,500italic,700italic,800italic,900italic' rel='stylesheet' type='text/css'>\n",
       "<link href='http://fonts.googleapis.com/css?family=Source+Code+Pro:300,400' rel='stylesheet' type='text/css'>\n",
       "<style>\n",
       "    @font-face {\n",
       "        font-family: \"Computer Modern\";\n",
       "        src: url('http://mirrors.ctan.org/fonts/cm-unicode/fonts/otf/cmunss.otf');\n",
       "    }\n",
       "    div.cell{\n",
       "        width:800px;\n",
       "        margin-left:16% !important;\n",
       "        margin-right:auto;\n",
       "    }\n",
       "    h1 {\n",
       "        font-family: 'Alegreya Sans', sans-serif;\n",
       "    }\n",
       "    h2 {\n",
       "        font-family: 'Fenix', serif;\n",
       "    }\n",
       "    h3{\n",
       "\t\tfont-family: 'Fenix', serif;\n",
       "        margin-top:12px;\n",
       "        margin-bottom: 3px;\n",
       "       }\n",
       "\th4{\n",
       "\t\tfont-family: 'Fenix', serif;\n",
       "       }\n",
       "    h5 {\n",
       "        font-family: 'Alegreya Sans', sans-serif;\n",
       "    }\t   \n",
       "    div.text_cell_render{\n",
       "        font-family: 'Alegreya Sans',Computer Modern, \"Helvetica Neue\", Arial, Helvetica, Geneva, sans-serif;\n",
       "        line-height: 135%;\n",
       "        font-size: 120%;\n",
       "        width:600px;\n",
       "        margin-left:auto;\n",
       "        margin-right:auto;\n",
       "    }\n",
       "    .CodeMirror{\n",
       "            font-family: \"Source Code Pro\";\n",
       "\t\t\tfont-size: 90%;\n",
       "    }\n",
       "/*    .prompt{\n",
       "        display: None;\n",
       "    }*/\n",
       "    .text_cell_render h1 {\n",
       "        font-weight: 200;\n",
       "        font-size: 50pt;\n",
       "\t\tline-height: 100%;\n",
       "        color:#CD2305;\n",
       "        margin-bottom: 0.5em;\n",
       "        margin-top: 0.5em;\n",
       "        display: block;\n",
       "    }\t\n",
       "    .text_cell_render h5 {\n",
       "        font-weight: 300;\n",
       "        font-size: 16pt;\n",
       "        color: #CD2305;\n",
       "        font-style: italic;\n",
       "        margin-bottom: .5em;\n",
       "        margin-top: 0.5em;\n",
       "        display: block;\n",
       "    }\n",
       "    \n",
       "    .warning{\n",
       "        color: rgb( 240, 20, 20 )\n",
       "        }  \n",
       "</style>\n",
       "<script>\n",
       "    MathJax.Hub.Config({\n",
       "                        TeX: {\n",
       "                           extensions: [\"AMSmath.js\"]\n",
       "                           },\n",
       "                tex2jax: {\n",
       "                    inlineMath: [ ['$','$'], [\"\\\\(\",\"\\\\)\"] ],\n",
       "                    displayMath: [ ['$$','$$'], [\"\\\\[\",\"\\\\]\"] ]\n",
       "                },\n",
       "                displayAlign: 'center', // Change this to 'center' to center equations.\n",
       "                \"HTML-CSS\": {\n",
       "                    styles: {'.MathJax_Display': {\"margin\": 4}}\n",
       "                }\n",
       "        });\n",
       "</script>\n"
      ],
      "text/plain": [
       "<IPython.core.display.HTML object>"
      ]
     },
     "execution_count": 4,
     "metadata": {},
     "output_type": "execute_result"
    }
   ],
   "source": [
    "from IPython.core.display import HTML\n",
    "HTML(open(\"figures/custom.css\", \"r\").read())"
   ]
  }
 ],
 "metadata": {
  "kernelspec": {
   "display_name": "Python 3",
   "language": "python",
   "name": "python3"
  },
  "language_info": {
   "codemirror_mode": {
    "name": "ipython",
    "version": 3
   },
   "file_extension": ".py",
   "mimetype": "text/x-python",
   "name": "python",
   "nbconvert_exporter": "python",
   "pygments_lexer": "ipython3",
   "version": "3.6.6"
  }
 },
 "nbformat": 4,
 "nbformat_minor": 2
}
